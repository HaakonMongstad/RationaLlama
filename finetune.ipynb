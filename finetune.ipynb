{
 "cells": [
  {
   "cell_type": "code",
   "execution_count": null,
   "metadata": {},
   "outputs": [],
   "source": [
    "import pandas as pd\n",
    "import torch\n",
    "from peft import LoraConfig, TaskType, get_peft_model\n",
    "from torch.utils.data import Dataset\n",
    "from transformers import (\n",
    "    AutoModelForCausalLM,\n",
    "    AutoTokenizer,\n",
    "    BitsAndBytesConfig,\n",
    "    Trainer,\n",
    "    TrainingArguments,\n",
    ")"
   ]
  },
  {
   "cell_type": "code",
   "execution_count": null,
   "metadata": {},
   "outputs": [],
   "source": [
    "def load_model(\n",
    "    model_name: str = \"meta-llama/Meta-Llama-3-8B-Instruct\", load_on_gpu: bool = True\n",
    ") -> tuple[AutoModelForCausalLM, AutoTokenizer]:\n",
    "    if load_on_gpu:\n",
    "        config = BitsAndBytesConfig(\n",
    "            load_in_4bit=True,\n",
    "            bnb_4bit_use_double_quant=False,\n",
    "            bnb_4bit_quant_type=\"nf4\",\n",
    "            bnb_4bit_compute_dtype=torch.float16,\n",
    "        )\n",
    "\n",
    "        model = AutoModelForCausalLM.from_pretrained(\n",
    "            model_name, low_cpu_mem_usage=True, quantization_config=config\n",
    "        )\n",
    "    else:\n",
    "        model = AutoModelForCausalLM.from_pretrained(model_name, low_cpu_mem_usage=True)\n",
    "\n",
    "    tokenizer = AutoTokenizer.from_pretrained(model_name)\n",
    "\n",
    "    if tokenizer.pad_token is None:\n",
    "        tokenizer.pad_token = tokenizer.eos_token\n",
    "        tokenizer.pad_token_id = tokenizer.eos_token_id\n",
    "\n",
    "    return model, tokenizer"
   ]
  },
  {
   "cell_type": "code",
   "execution_count": null,
   "metadata": {},
   "outputs": [],
   "source": [
    "# Load the model & tokenizer\n",
    "model, tokenizer = load_model()"
   ]
  },
  {
   "cell_type": "code",
   "execution_count": null,
   "metadata": {},
   "outputs": [],
   "source": [
    "# Add Lora Matrices\n",
    "lora_config = LoraConfig(\n",
    "    r=32,\n",
    "    lora_alpha=32,\n",
    "    target_modules=[\"q_proj\", \"v_proj\"],\n",
    "    lora_dropout=0.05,\n",
    "    bias=\"none\",\n",
    "    task_type=TaskType.CAUSAL_LM,\n",
    ")\n",
    "\n",
    "peft_model = get_peft_model(model, lora_config)"
   ]
  },
  {
   "cell_type": "code",
   "execution_count": null,
   "metadata": {},
   "outputs": [],
   "source": [
    "def tokenize_queries(query: str, max_length: int = 1024) -> torch.Tensor:\n",
    "    query = [\n",
    "        {\"role\": \"system\", \"content\": \"You are a recipe generator. Give the necessary ingredients and steps to create the input dish.\"},\n",
    "        {\"role\": \"user\", \"content\": query},\n",
    "    ]\n",
    "\n",
    "    input_ids = tokenizer.apply_chat_template(\n",
    "        query,\n",
    "        padding='max_length', \n",
    "        max_length=max_length,\n",
    "        add_generation_prompt=True,\n",
    "        return_tensors=\"pt\"\n",
    "    )\n",
    "\n",
    "    return input_ids\n",
    "\n",
    "def tokenize_responses(response: str, max_length: int = 1024) -> torch.Tensor:\n",
    "    response = [\n",
    "        {\"role\": \"assistant\", \"content\": response},\n",
    "    ]\n",
    "\n",
    "    labels = tokenizer.apply_chat_template(\n",
    "        response,\n",
    "        padding='max_length', \n",
    "        max_length=max_length,\n",
    "        add_generation_prompt=True,\n",
    "        return_tensors=\"pt\"\n",
    "    )\n",
    "\n",
    "    return labels"
   ]
  },
  {
   "cell_type": "code",
   "execution_count": null,
   "metadata": {},
   "outputs": [],
   "source": [
    "# Load in the data\n",
    "train_data = pd.read_csv(\"./data/train.csv\")\n",
    "test_data = pd.read_csv(\"./data/test.csv\")"
   ]
  },
  {
   "cell_type": "code",
   "execution_count": null,
   "metadata": {},
   "outputs": [],
   "source": [
    "# Tokenize the data\n",
    "train_data[\"input_ids\"] = train_data.apply(lambda row: tokenize_queries(row[\"query\"]), axis=1)\n",
    "train_data[\"labels\"] = train_data.apply(lambda row: tokenize_responses(row[\"response\"]), axis=1)\n",
    "\n",
    "test_data[\"input_ids\"] = test_data.apply(lambda row: tokenize_queries(row[\"query\"]), axis=1)\n",
    "test_data[\"labels\"] = test_data.apply(lambda row: tokenize_responses(row[\"response\"]), axis=1)\n",
    "\n",
    "# Drop unecessary columns\n",
    "train_data = train_data.drop(columns=\"query\").drop(columns=\"response\")\n",
    "test_data = test_data.drop(columns=\"query\").drop(columns=\"response\")"
   ]
  },
  {
   "cell_type": "code",
   "execution_count": null,
   "metadata": {},
   "outputs": [],
   "source": [
    "class RecipeDataset(Dataset):\n",
    "    def __init__(self, data: pd.DataFrame):\n",
    "        self.data = data\n",
    "\n",
    "    def __len__(self):\n",
    "        return len(self.data)\n",
    "\n",
    "    def __getitem__(self, idx):\n",
    "        return {\n",
    "            \"input_ids\": self.data.iloc[idx][\"input_ids\"][0],\n",
    "            \"labels\": self.data.iloc[idx][\"labels\"][0],\n",
    "        }"
   ]
  },
  {
   "cell_type": "code",
   "execution_count": null,
   "metadata": {},
   "outputs": [],
   "source": [
    "# Setup trainer\n",
    "training_args = TrainingArguments(\n",
    "    output_dir=\"./output\",\n",
    "    # auto_find_batch_size=True,\n",
    "    per_device_train_batch_size=2,\n",
    "    learning_rate=1e-3,\n",
    "    num_train_epochs=1,\n",
    "    logging_steps=1,\n",
    "    max_steps=1,\n",
    "    report_to=\"wandb\"\n",
    ")\n",
    "\n",
    "trainer = Trainer(model=peft_model, \n",
    "                      args=training_args,\n",
    "                      train_dataset=RecipeDataset(train_data),\n",
    "                      eval_dataset=RecipeDataset(test_data)\n",
    "        )"
   ]
  },
  {
   "cell_type": "code",
   "execution_count": null,
   "metadata": {},
   "outputs": [],
   "source": [
    "# Now train\n",
    "trainer.train()"
   ]
  }
 ],
 "metadata": {
  "kernelspec": {
   "display_name": "dsl-final-project",
   "language": "python",
   "name": "python3"
  },
  "language_info": {
   "codemirror_mode": {
    "name": "ipython",
    "version": 3
   },
   "file_extension": ".py",
   "mimetype": "text/x-python",
   "name": "python",
   "nbconvert_exporter": "python",
   "pygments_lexer": "ipython3",
   "version": "3.10.0"
  }
 },
 "nbformat": 4,
 "nbformat_minor": 2
}
