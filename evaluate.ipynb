{
 "cells": [
  {
   "cell_type": "code",
   "execution_count": 1,
   "metadata": {},
   "outputs": [
    {
     "name": "stderr",
     "output_type": "stream",
     "text": [
      "/home/tdutton/mambaforge/envs/dsl-final-project/lib/python3.10/site-packages/tqdm/auto.py:21: TqdmWarning: IProgress not found. Please update jupyter and ipywidgets. See https://ipywidgets.readthedocs.io/en/stable/user_install.html\n",
      "  from .autonotebook import tqdm as notebook_tqdm\n"
     ]
    }
   ],
   "source": [
    "import pandas as pd\n",
    "import torch\n",
    "from peft import PeftModel\n",
    "from torch.utils.data import DataLoader, Dataset\n",
    "from tqdm import tqdm\n",
    "from transformers import AutoModelForCausalLM, AutoTokenizer, BitsAndBytesConfig"
   ]
  },
  {
   "cell_type": "code",
   "execution_count": 2,
   "metadata": {},
   "outputs": [],
   "source": [
    "def load_lora_model(\n",
    "    adapter_name: str,\n",
    "    model_name: str = \"meta-llama/Llama-2-7b-chat-hf\",\n",
    ") -> tuple[AutoModelForCausalLM, AutoTokenizer]:\n",
    "    config = BitsAndBytesConfig(\n",
    "        load_in_4bit=True,\n",
    "        bnb_4bit_use_double_quant=False,\n",
    "        bnb_4bit_quant_type=\"nf4\",\n",
    "        bnb_4bit_compute_dtype=torch.float16,\n",
    "    )\n",
    "\n",
    "    model = AutoModelForCausalLM.from_pretrained(\n",
    "        model_name, low_cpu_mem_usage=True, quantization_config=config, attn_implementation=\"flash_attention_2\"\n",
    "    )\n",
    "\n",
    "    tokenizer = AutoTokenizer.from_pretrained(model_name)\n",
    "\n",
    "    model = PeftModel.from_pretrained(model, adapter_name)\n",
    "\n",
    "    if tokenizer.pad_token is None:\n",
    "        tokenizer.pad_token = tokenizer.eos_token\n",
    "        tokenizer.pad_token_id = tokenizer.eos_token_id\n",
    "    \n",
    "    return model, tokenizer"
   ]
  },
  {
   "cell_type": "code",
   "execution_count": 3,
   "metadata": {},
   "outputs": [],
   "source": [
    "def tokenize_queries(tokenizer: AutoTokenizer, query: str, max_length: int = 1024) -> torch.Tensor:\n",
    "    query = [\n",
    "        {\"role\": \"system\", \"content\": \"You answer multiple choice questions with the correct letter answer. Your answer should be in this format: '{Letter}.{Answer}'\"},\n",
    "        {\"role\": \"user\", \"content\": query},\n",
    "    ]\n",
    "\n",
    "    input_ids = tokenizer.apply_chat_template(\n",
    "        query,\n",
    "        add_generation_prompt=True,\n",
    "        return_tensors=\"pt\"\n",
    "    )\n",
    "\n",
    "    return input_ids"
   ]
  },
  {
   "cell_type": "code",
   "execution_count": 4,
   "metadata": {},
   "outputs": [
    {
     "name": "stderr",
     "output_type": "stream",
     "text": [
      "Loading checkpoint shards: 100%|██████████| 2/2 [00:04<00:00,  2.15s/it]\n"
     ]
    }
   ],
   "source": [
    "# Determine the device\n",
    "device = torch.device(\"cuda\" if torch.cuda.is_available() else \"cpu\")\n",
    "\n",
    "# Load the model & tokenizer\n",
    "model, tokenizer = load_lora_model(\"checkpoints/checkpoint-36000\")"
   ]
  },
  {
   "cell_type": "code",
   "execution_count": 5,
   "metadata": {},
   "outputs": [
    {
     "data": {
      "text/html": [
       "<div>\n",
       "<style scoped>\n",
       "    .dataframe tbody tr th:only-of-type {\n",
       "        vertical-align: middle;\n",
       "    }\n",
       "\n",
       "    .dataframe tbody tr th {\n",
       "        vertical-align: top;\n",
       "    }\n",
       "\n",
       "    .dataframe thead th {\n",
       "        text-align: right;\n",
       "    }\n",
       "</style>\n",
       "<table border=\"1\" class=\"dataframe\">\n",
       "  <thead>\n",
       "    <tr style=\"text-align: right;\">\n",
       "      <th></th>\n",
       "      <th>response</th>\n",
       "      <th>input_ids</th>\n",
       "    </tr>\n",
       "  </thead>\n",
       "  <tbody>\n",
       "    <tr>\n",
       "      <th>0</th>\n",
       "      <td>A.Civic Park is north of the administrative se...</td>\n",
       "      <td>[[tensor(1), tensor(518), tensor(25580), tenso...</td>\n",
       "    </tr>\n",
       "    <tr>\n",
       "      <th>1</th>\n",
       "      <td>A.20-year-old accountant, 20-year-old salesper...</td>\n",
       "      <td>[[tensor(1), tensor(518), tensor(25580), tenso...</td>\n",
       "    </tr>\n",
       "    <tr>\n",
       "      <th>2</th>\n",
       "      <td>B No Shouwu</td>\n",
       "      <td>[[tensor(1), tensor(518), tensor(25580), tenso...</td>\n",
       "    </tr>\n",
       "    <tr>\n",
       "      <th>3</th>\n",
       "      <td>D.If you do not participate in the English tut...</td>\n",
       "      <td>[[tensor(1), tensor(518), tensor(25580), tenso...</td>\n",
       "    </tr>\n",
       "    <tr>\n",
       "      <th>4</th>\n",
       "      <td>D.Ding.</td>\n",
       "      <td>[[tensor(1), tensor(518), tensor(25580), tenso...</td>\n",
       "    </tr>\n",
       "  </tbody>\n",
       "</table>\n",
       "</div>"
      ],
      "text/plain": [
       "                                            response  \\\n",
       "0  A.Civic Park is north of the administrative se...   \n",
       "1  A.20-year-old accountant, 20-year-old salesper...   \n",
       "2                                        B No Shouwu   \n",
       "3  D.If you do not participate in the English tut...   \n",
       "4                                            D.Ding.   \n",
       "\n",
       "                                           input_ids  \n",
       "0  [[tensor(1), tensor(518), tensor(25580), tenso...  \n",
       "1  [[tensor(1), tensor(518), tensor(25580), tenso...  \n",
       "2  [[tensor(1), tensor(518), tensor(25580), tenso...  \n",
       "3  [[tensor(1), tensor(518), tensor(25580), tenso...  \n",
       "4  [[tensor(1), tensor(518), tensor(25580), tenso...  "
      ]
     },
     "execution_count": 5,
     "metadata": {},
     "output_type": "execute_result"
    }
   ],
   "source": [
    "# Load the evaluation data\n",
    "eval_data = pd.read_csv(\"data/test.csv\")\n",
    "\n",
    "# Tokenize the queries\n",
    "eval_data[\"input_ids\"] = eval_data.apply(lambda row: tokenize_queries(tokenizer, row[\"query\"]), axis=1)\n",
    "\n",
    "# Drop unecessary columns\n",
    "eval_data.drop(\"query\", axis=1, inplace=True)\n",
    "\n",
    "eval_data.head()"
   ]
  },
  {
   "cell_type": "code",
   "execution_count": 6,
   "metadata": {},
   "outputs": [
    {
     "name": "stderr",
     "output_type": "stream",
     "text": [
      "  1%|          | 6/650 [00:14<28:43,  2.68s/it]"
     ]
    }
   ],
   "source": [
    "correct = 0\n",
    "total = 0\n",
    "\n",
    "for i in tqdm(range(len(eval_data))):\n",
    "    input_ids = eval_data[\"input_ids\"][i].to(device)\n",
    "    correct_answer = eval_data[\"response\"][i][0]\n",
    "\n",
    "    # Generate the response\n",
    "    with torch.no_grad():\n",
    "        output = model.generate(\n",
    "            input_ids=input_ids,\n",
    "            max_new_tokens=256\n",
    "        )\n",
    "\n",
    "    # Decode the response\n",
    "    outputs = tokenizer.decode(output[0][input_ids.shape[-1]:], skip_special_tokens=True)\n",
    "    \n",
    "    # Extract the predicted answer\n",
    "    predicted_answer = outputs[0]\n",
    "\n",
    "    # Skip if the predicted answer is not a valid answer\n",
    "    if predicted_answer not in [\"A\", \"B\", \"C\", \"D\"]:\n",
    "        continue\n",
    "\n",
    "    # Check if the predicted answer is correct\n",
    "    correct += int(predicted_answer == correct_answer)\n",
    "    total += 1\n",
    "\n",
    "print(f\"Accuracy: {correct}/{total} ({correct / total * 100:.2f}%)\")"
   ]
  }
 ],
 "metadata": {
  "kernelspec": {
   "display_name": "dsl-final-project",
   "language": "python",
   "name": "python3"
  },
  "language_info": {
   "codemirror_mode": {
    "name": "ipython",
    "version": 3
   },
   "file_extension": ".py",
   "mimetype": "text/x-python",
   "name": "python",
   "nbconvert_exporter": "python",
   "pygments_lexer": "ipython3",
   "version": "3.10.0"
  }
 },
 "nbformat": 4,
 "nbformat_minor": 2
}
